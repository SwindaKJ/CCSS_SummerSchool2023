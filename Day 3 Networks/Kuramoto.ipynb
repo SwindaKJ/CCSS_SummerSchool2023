{
 "cells": [
  {
   "cell_type": "markdown",
   "metadata": {},
   "source": [
    "<h1> Utrecht Summer School 'Introduction to Complex Systems' </h1>\n",
    "<h2> Day 2. Project Networks - Kuramoto </h2>\n",
    "\n",
    "This Jupyter notebook contains the parameters that can be changed. It calls the function that will perform the simulation, computation and visualisation. Only this notebook needs to be amended."
   ]
  },
  {
   "cell_type": "markdown",
   "metadata": {},
   "source": [
    "<h3> Dependencies </h3>\n",
    "\n",
    "The codes used in this project depend on complementary Python files. Specificially, the following packages need to be installed.\n",
    "<h4> Packages needed </h4>\n",
    "<ul>\n",
    "    <li> numpy </li>\n",
    "    <li> matplotlib </li>\n",
    "    <li> IPython </li>\n",
    "    <li> networkx </li>\n",
    "</ul>"
   ]
  },
  {
   "cell_type": "markdown",
   "metadata": {},
   "source": [
    "<h1> Import the python codes </h1>"
   ]
  },
  {
   "cell_type": "code",
   "execution_count": null,
   "metadata": {},
   "outputs": [],
   "source": [
    "## DO NOT CHANGE THIS\n",
    "%matplotlib notebook\n",
    "\n",
    "from Kuramoto_functions import Kuramoto_simulator\n",
    "import numpy as np\n",
    "\n",
    "from IPython.core.display import display, HTML\n",
    "display(HTML(\"<style>div.output_scroll { height: 44em; }</style>\"))"
   ]
  },
  {
   "cell_type": "markdown",
   "metadata": {},
   "source": [
    "<h1> Parameters </h1>"
   ]
  },
  {
   "cell_type": "code",
   "execution_count": null,
   "metadata": {},
   "outputs": [],
   "source": [
    "# Parameters are packed into a class for easy passing of all parameter values to the simulator function\n",
    "\n",
    "class Parameters:\n",
    "    ## GENERAL PARAMETERS\n",
    "    \n",
    "    # Number of oscillators\n",
    "    N = 20\n",
    "    \n",
    "    # Coupling Strength\n",
    "    K = 0\n",
    "    \n",
    "    # Order parameter function\n",
    "    def orderParameter(x):\n",
    "        return np.abs( np.sum(np.exp(1j*x)) )/len(x)\n",
    "        \n",
    "    ## Connections between oscillators\n",
    "    A = np.ones((N,N)) - np.eye(N)\n",
    "    # A = np.diag( np.ones(N-1), 1) + np.diag( np.ones(N-1), -1)\n",
    "    # p = 0.1\n",
    "    # A = np.triu( np.random.rand(N,N) < p, 1)\n",
    "    # A = A + A.transpose()\n",
    "    # A = A.astype(int)\n",
    "    \n",
    "# Finally, we create one instance of this class that now contains all parameters\n",
    "par = Parameters;"
   ]
  },
  {
   "cell_type": "markdown",
   "metadata": {},
   "source": [
    "<h1> Simulation Settings </h1>"
   ]
  },
  {
   "cell_type": "code",
   "execution_count": null,
   "metadata": {},
   "outputs": [],
   "source": [
    "# Simulation settings are packed into a class for easy passing of all settings to the simulator function\n",
    "\n",
    "class SimSettings:\n",
    "    \n",
    "    updatePlot = True # do we want to update the plot during the simulation?\n",
    "    plotEvolution = True # do we plot the evolutions after the simulation?\n",
    "    \n",
    "    plot_interval = 10; # Output a new figure every so many time steps\n",
    "    \n",
    "    T = 600 # Endtime\n",
    "    dt = 0.1 # simulation timestep\n",
    "    \n",
    "# Finally, we create one instance of this class that now contains all settings\n",
    "sim_set = SimSettings;"
   ]
  },
  {
   "cell_type": "markdown",
   "metadata": {},
   "source": [
    "<h1> Actual Simulation </h1>"
   ]
  },
  {
   "cell_type": "code",
   "execution_count": null,
   "metadata": {},
   "outputs": [],
   "source": [
    "# The function is given all parameters as input\n",
    "# The output is a list of the values of the order parameter over time\n",
    "[thetas, orderPar] = Kuramoto_simulator(par, sim_set)"
   ]
  },
  {
   "cell_type": "code",
   "execution_count": null,
   "metadata": {},
   "outputs": [],
   "source": []
  }
 ],
 "metadata": {
  "kernelspec": {
   "display_name": "Python 3 (ipykernel)",
   "language": "python",
   "name": "python3"
  },
  "language_info": {
   "codemirror_mode": {
    "name": "ipython",
    "version": 3
   },
   "file_extension": ".py",
   "mimetype": "text/x-python",
   "name": "python",
   "nbconvert_exporter": "python",
   "pygments_lexer": "ipython3",
   "version": "3.9.17"
  }
 },
 "nbformat": 4,
 "nbformat_minor": 4
}
