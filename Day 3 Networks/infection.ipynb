{
 "cells": [
  {
   "cell_type": "markdown",
   "metadata": {},
   "source": [
    "<h1> Utrecht Summer School 'Introduction to Complex Systems' </h1>\n",
    "<h2> Day 3. Project Infection spreading on network </h2>\n",
    "\n",
    "This Jupyter notebook contains the parameters that can be changed. It calls the function that will perform the simulation, computation and visualisation. Only this notebook needs to be amended."
   ]
  },
  {
   "cell_type": "markdown",
   "metadata": {},
   "source": [
    "<h3> Dependencies </h3>\n",
    "\n",
    "The codes used in this project depend on complementary Python files. Specificially, the following packages need to be installed.\n",
    "<h4> Packages needed </h4>\n",
    "<ul>\n",
    "    <li> numpy </li>\n",
    "    <li> matplotlib </li>\n",
    "    <li> IPython </li>\n",
    "    <li> networkx </li>\n",
    "</ul>"
   ]
  },
  {
   "cell_type": "markdown",
   "metadata": {},
   "source": [
    "<h1> Import the python codes </h1>"
   ]
  },
  {
   "cell_type": "code",
   "execution_count": null,
   "metadata": {},
   "outputs": [],
   "source": [
    "## DO NOT CHANGE THIS\n",
    "%matplotlib notebook\n",
    "\n",
    "from infection_functions import infection_simulator\n",
    "from infection_functions import NetworkProperties\n",
    "import numpy as np\n",
    "\n",
    "from IPython.core.display import display, HTML\n",
    "display(HTML(\"<style>div.output_scroll { height: 44em; }</style>\"))"
   ]
  },
  {
   "cell_type": "markdown",
   "metadata": {},
   "source": [
    "<h1> Parameters </h1>"
   ]
  },
  {
   "cell_type": "code",
   "execution_count": null,
   "metadata": {},
   "outputs": [],
   "source": [
    "# Parameters are packed into a class for easy passing of all parameter values to the simulator function\n",
    "\n",
    "class Parameters:\n",
    "    ## GENERAL PARAMETERS\n",
    "    \n",
    "    # The probability an infected persion will infect an uninfected person\n",
    "    p = 0.1;\n",
    "    \n",
    "    ## SETUP OF NETWORK\n",
    "    # Amount of nodes\n",
    "    N = 16*16\n",
    "    \n",
    "    # Choose the network type by typing in the desired name\n",
    "    # Possible options:\n",
    "    # (1) 'lattice': a lattice network with horizontal and vertical connections between nodes and periodic boundaries\n",
    "    # see also rows/column settings below\n",
    "    # (2) 'random': first, a lattice network is created. Then, each edge is disconnected from one of the nodes with probability\n",
    "    # q (defined below) and reattached to some other node\n",
    "    # (3) 'community': creates C independent random networks. Then create r links between communities (and delte random other edges)\n",
    "    # (4) 'custom': use a custom network, which should be supplied in A below\n",
    "    network_type = 'community'\n",
    "    \n",
    "    ## ADDITIONAL NETWORK SETUP\n",
    "    # Indicate the amount of rows and columns for the lattice network\n",
    "    M1 = 16\n",
    "    M2 = 16\n",
    "    \n",
    "    # For random network: the probability that an edge is disconnected\n",
    "    q = 0.3\n",
    "    \n",
    "    # For community network: how many subnetworks\n",
    "    C = 2;\n",
    "    # For community network: how many edges between communitites?\n",
    "    r = 1\n",
    "    \n",
    "    # If custom network is wanted, the adjecency matrix should be provided here:\n",
    "    A = ( np.random.rand(N,N) < 0.01 )\n",
    "    A = A.astype(int)\n",
    "    A = np.tril(A,-1) + np.triu(A.transpose(),1) # Force it to be symmetric\n",
    "    \n",
    "# Finally, we create one instance of this class that now contains all parameters\n",
    "par = Parameters;"
   ]
  },
  {
   "cell_type": "markdown",
   "metadata": {},
   "source": [
    "<h1> Simulation Settings </h1>"
   ]
  },
  {
   "cell_type": "code",
   "execution_count": null,
   "metadata": {},
   "outputs": [],
   "source": [
    "# Simulation settings are packed into a class for easy passing of all settings to the simulator function\n",
    "\n",
    "class SimSettings:        \n",
    "    plot_interval = 10 # Output a new figure every so many time steps\n",
    "    \n",
    "    showPlot = True # do you want to see the infected every timestep?\n",
    "    showGraph = True # Do you want to see the spreading on the graph as well?\n",
    "    \n",
    "    timesteps = 100 # how many timesteps\n",
    "    \n",
    "# Finally, we create one instance of this class that now contains all settings\n",
    "sim_set = SimSettings;"
   ]
  },
  {
   "cell_type": "markdown",
   "metadata": {},
   "source": [
    "<h1> Actual Simulation </h1>"
   ]
  },
  {
   "cell_type": "code",
   "execution_count": null,
   "metadata": {},
   "outputs": [],
   "source": [
    "# The function is given all parameters as input\n",
    "# The output is a list of the fraction of infected people/nodes I for every time t. Also, the adjecency matrix is given\n",
    "[t, I, A] = infection_simulator(par,sim_set)"
   ]
  },
  {
   "cell_type": "code",
   "execution_count": null,
   "metadata": {},
   "outputs": [],
   "source": [
    "# deg_av,degrees = NetworkProperties(A)"
   ]
  },
  {
   "cell_type": "code",
   "execution_count": null,
   "metadata": {},
   "outputs": [],
   "source": []
  }
 ],
 "metadata": {
  "kernelspec": {
   "display_name": "Python 3 (ipykernel)",
   "language": "python",
   "name": "python3"
  },
  "language_info": {
   "codemirror_mode": {
    "name": "ipython",
    "version": 3
   },
   "file_extension": ".py",
   "mimetype": "text/x-python",
   "name": "python",
   "nbconvert_exporter": "python",
   "pygments_lexer": "ipython3",
   "version": "3.9.17"
  }
 },
 "nbformat": 4,
 "nbformat_minor": 4
}
