{
 "cells": [
  {
   "cell_type": "markdown",
   "metadata": {},
   "source": [
    "<h1> Utrecht Summer School 'Introduction to Complex Systems' </h1>\n",
    "<h2> Day 4. Project evolution in an individual based model </h2>\n",
    "\n",
    "This Jupyter notebook contains the parameters that can be changed. It calls the function that will perform the simulation, computation and visualisation. Only this notebook needs to be amended."
   ]
  },
  {
   "cell_type": "markdown",
   "metadata": {},
   "source": [
    "<h3> Dependencies </h3>\n",
    "\n",
    "The codes used in this project depend on complementary Python files. Specificially, the following packages need to be installed.\n",
    "<h4> Packages needed </h4>\n",
    "<ul>\n",
    "    <li> numpy </li>\n",
    "    <li> matplotlib </li>\n",
    "    <li> IPython </li>\n",
    "</ul>"
   ]
  },
  {
   "cell_type": "markdown",
   "metadata": {},
   "source": [
    "<h1> Import the python codes </h1>"
   ]
  },
  {
   "cell_type": "code",
   "execution_count": null,
   "metadata": {},
   "outputs": [],
   "source": [
    "## DO NOT CHANGE THIS\n",
    "from evolution_IBM_functions import evolution_IBM_simulator\n",
    "\n",
    "import numpy as np\n",
    "\n",
    "from IPython.core.display import display, HTML\n",
    "display(HTML(\"<style>div.output_scroll { height: 44em; }</style>\"))"
   ]
  },
  {
   "cell_type": "markdown",
   "metadata": {},
   "source": [
    "<h1> Parameters </h1>"
   ]
  },
  {
   "cell_type": "code",
   "execution_count": null,
   "metadata": {},
   "outputs": [],
   "source": [
    "# Parameters are packed into a class for easy passing of all parameter values to the simulator function\n",
    "\n",
    "class Parameters:\n",
    "    ## GENERAL PARAMETERS\n",
    "    \n",
    "    # initial population size\n",
    "    initial_size = 500\n",
    "\n",
    "    # Initial properties of agents\n",
    "    m = 0.05 # motility, i.e. movement\n",
    "    d = 0.1 # death rate in absence of food\n",
    "    r = 0.75 # reproduction rate (when meeting food)\n",
    "    \n",
    "    ## EVOLUTION PARAMETERS\n",
    "    # For each of these, the offspring can have a different parameter value by at most the amounts specified below\n",
    "    evol_m = 0;\n",
    "    evol_d = 0;\n",
    "    evol_r = 0;\n",
    "    \n",
    "    ## PARAMETERS FOR FOOD CREATION\n",
    "    # Make a function of time (t) and the number of agents (n) for the amount of food being put into the domain \n",
    "    # at each time step (this will be rounded to the nearest integer)\n",
    "    def food_input(t, n):\n",
    "        return 10\n",
    "    keep_uneaten_food = True; # If true, food keeps pilling up until eaten\n",
    "    \n",
    "    ## PARAMETERS FOR GRID SETUP\n",
    "    # In how many grid cells do we divide the grid?\n",
    "    Nx = 30;\n",
    "    Ny = 30;\n",
    "    \n",
    "# Finally, we create one instance of this class that now contains all parameters\n",
    "par = Parameters;"
   ]
  },
  {
   "cell_type": "markdown",
   "metadata": {},
   "source": [
    "<h1> Simulation Settings </h1>"
   ]
  },
  {
   "cell_type": "code",
   "execution_count": null,
   "metadata": {},
   "outputs": [],
   "source": [
    "# Simulation settings are packed into a class for easy passing of all settings to the simulator function\n",
    "\n",
    "class SimSettings:\n",
    "    ## SIMULATION TIME\n",
    "    timesteps = 1000;\n",
    "    \n",
    "    ## VISUALISATION OPTIONS\n",
    "    count_plot = True # If on, shows the evolution of the agents & food\n",
    "    domain_plot = True # If on, shows location of every agent & food every time step\n",
    "    plot_evolution = False # If on, plots the distribution at every time step\n",
    "    \n",
    "    plot_interval = 100 # Update the plots every so many time steps\n",
    "    \n",
    "# Finally, we create one instance of this class that now contains all settings\n",
    "sim_set = SimSettings;"
   ]
  },
  {
   "cell_type": "markdown",
   "metadata": {},
   "source": [
    "<h1> Actual Simulation </h1>"
   ]
  },
  {
   "cell_type": "code",
   "execution_count": null,
   "metadata": {
    "scrolled": false
   },
   "outputs": [],
   "source": [
    "[agents_over_time, number_of_agents, number_of_food] = evolution_IBM_simulator(par, sim_set)"
   ]
  },
  {
   "cell_type": "markdown",
   "metadata": {},
   "source": [
    "<h2> For more conventient data handling after the simulation has ended </h2>"
   ]
  },
  {
   "cell_type": "code",
   "execution_count": null,
   "metadata": {},
   "outputs": [],
   "source": [
    "# Loop over all timesteps that were saved and restore the distributions of m, d and r over the population\n",
    "m_counts = []\n",
    "d_counts = []\n",
    "r_counts = []\n",
    "for agents in agents_over_time:\n",
    "    m_counts.append(agents[:,2])\n",
    "    d_counts.append(agents[:,3])\n",
    "    r_counts.append(agents[:,4])"
   ]
  },
  {
   "cell_type": "code",
   "execution_count": null,
   "metadata": {},
   "outputs": [],
   "source": []
  }
 ],
 "metadata": {
  "kernelspec": {
   "display_name": "Python 3 (ipykernel)",
   "language": "python",
   "name": "python3"
  },
  "language_info": {
   "codemirror_mode": {
    "name": "ipython",
    "version": 3
   },
   "file_extension": ".py",
   "mimetype": "text/x-python",
   "name": "python",
   "nbconvert_exporter": "python",
   "pygments_lexer": "ipython3",
   "version": "3.9.17"
  }
 },
 "nbformat": 4,
 "nbformat_minor": 4
}
